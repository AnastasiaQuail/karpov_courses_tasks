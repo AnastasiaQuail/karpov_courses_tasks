{
 "cells": [
  {
   "cell_type": "code",
   "execution_count": 76,
   "id": "619517bf-37e6-4ba3-8cdd-4e24e363057e",
   "metadata": {},
   "outputs": [],
   "source": [
    "import pandas as pd\n",
    "import numpy as np\n",
    "import pandahouse as ph\n",
    "import matplotlib.pyplot as plt\n",
    "import seaborn as sns\n",
    "from scipy import stats"
   ]
  },
  {
   "cell_type": "code",
   "execution_count": 5,
   "id": "0683dadb-c59f-43d0-b6cc-8e15f35cfa1a",
   "metadata": {},
   "outputs": [],
   "source": [
    "connection = {'host': 'https://clickhouse.lab.karpov.courses',\n",
    "                      'database':'simulator_20230120',\n",
    "                      'user':'student', \n",
    "                      'password':'dpo_python_2020'\n",
    "                     }"
   ]
  },
  {
   "cell_type": "code",
   "execution_count": 71,
   "id": "59a85083-ea6c-4c17-b99b-aa42e2f40512",
   "metadata": {},
   "outputs": [
    {
     "data": {
      "text/html": [
       "<div>\n",
       "<style scoped>\n",
       "    .dataframe tbody tr th:only-of-type {\n",
       "        vertical-align: middle;\n",
       "    }\n",
       "\n",
       "    .dataframe tbody tr th {\n",
       "        vertical-align: top;\n",
       "    }\n",
       "\n",
       "    .dataframe thead th {\n",
       "        text-align: right;\n",
       "    }\n",
       "</style>\n",
       "<table border=\"1\" class=\"dataframe\">\n",
       "  <thead>\n",
       "    <tr style=\"text-align: right;\">\n",
       "      <th></th>\n",
       "      <th>user_id</th>\n",
       "      <th>likes</th>\n",
       "      <th>views</th>\n",
       "      <th>ctr</th>\n",
       "    </tr>\n",
       "    <tr>\n",
       "      <th>exp_group</th>\n",
       "      <th></th>\n",
       "      <th></th>\n",
       "      <th></th>\n",
       "      <th></th>\n",
       "    </tr>\n",
       "  </thead>\n",
       "  <tbody>\n",
       "    <tr>\n",
       "      <th>1</th>\n",
       "      <td>10079</td>\n",
       "      <td>10079</td>\n",
       "      <td>10079</td>\n",
       "      <td>10079</td>\n",
       "    </tr>\n",
       "    <tr>\n",
       "      <th>2</th>\n",
       "      <td>9952</td>\n",
       "      <td>9952</td>\n",
       "      <td>9952</td>\n",
       "      <td>9952</td>\n",
       "    </tr>\n",
       "  </tbody>\n",
       "</table>\n",
       "</div>"
      ],
      "text/plain": [
       "           user_id  likes  views    ctr\n",
       "exp_group                              \n",
       "1            10079  10079  10079  10079\n",
       "2             9952   9952   9952   9952"
      ]
     },
     "execution_count": 71,
     "metadata": {},
     "output_type": "execute_result"
    }
   ],
   "source": [
    "q = \"\"\"\n",
    "SELECT exp_group, \n",
    "    user_id,\n",
    "    sum(action = 'like') as likes,\n",
    "    sum(action = 'view') as views,\n",
    "    likes/views as ctr\n",
    "FROM {db}.feed_actions \n",
    "WHERE toDate(time) between '2023-01-01' and '2023-01-07'\n",
    "    and exp_group in (1,2)\n",
    "GROUP BY exp_group, user_id\n",
    "\"\"\"\n",
    "\n",
    "df = ph.read_clickhouse(q, connection=connection)\n",
    "\n",
    "df.groupby('exp_group').count()"
   ]
  },
  {
   "cell_type": "markdown",
   "id": "6a6ee920-4df8-4051-853a-7e17ba0c0f96",
   "metadata": {},
   "source": [
    "## Задание\n",
    "Эксперимент проходил с **2023-01-01 по 2023-01-07** включительно. Для эксперимента были задействованы **2 и 1 группы**. \n",
    "\n",
    "В группе 2 был использован один из новых алгоритмов рекомендации постов, группа 1 использовалась в качестве контроля. \n",
    "\n",
    "Основная гипотеза заключается в том, что новый алгоритм во 2-й группе приведет к увеличению CTR. \n",
    "\n",
    "Ваша задача — проанализировать данные АB-теста. "
   ]
  },
  {
   "cell_type": "markdown",
   "id": "803d5eb2-2869-48b1-9e44-64431c109f55",
   "metadata": {},
   "source": [
    "## 1. Смотрим глазами"
   ]
  },
  {
   "cell_type": "code",
   "execution_count": 83,
   "id": "e8ca98f1-aedd-45bd-989f-306f1405a21b",
   "metadata": {},
   "outputs": [
    {
     "data": {
      "image/png": "[encoded data removed]",
      "text/plain": [
       "<Figure size 432x288 with 1 Axes>"
      ]
     },
     "metadata": {
      "needs_background": "light"
     },
     "output_type": "display_data"
    }
   ],
   "source": [
    "groups = sns.histplot(data = df, \n",
    "              x='ctr', \n",
    "              hue='exp_group', \n",
    "              palette = ['r', 'b'],\n",
    "              alpha=0.5,\n",
    "              kde=False)"
   ]
  },
  {
   "cell_type": "markdown",
   "id": "ba1a35f0-9165-4195-9d9f-96ee0e3a7ad7",
   "metadata": {},
   "source": [
    "Если посмотреть на распределение CTR глазами, можно видеть, что у 2 группы распределение не унимодально(либо скошено, но не хватает данных), что уже может стать причиной плохой работы Т-теста. Манна-Уитни скорее всего прокрасится, т.к. распределения отличаются по форме, и из логики работы рангового теста, группы будут отличаться."
   ]
  },
  {
   "cell_type": "code",
   "execution_count": 84,
   "id": "85ed1be4-8c1e-47ca-8066-239b7c024b10",
   "metadata": {},
   "outputs": [
    {
     "data": {
      "text/plain": [
       "MannwhitneyuResult(statistic=56601260.5, pvalue=6.0376484617779035e-56)"
      ]
     },
     "execution_count": 84,
     "metadata": {},
     "output_type": "execute_result"
    }
   ],
   "source": [
    "stats.mannwhitneyu(df[df.exp_group == 1].ctr, \n",
    "                   df[df.exp_group == 2].ctr,\n",
    "                   alternative = 'two-sided')"
   ]
  },
  {
   "cell_type": "markdown",
   "id": "0afb0f8a-4d49-4f0e-84ce-3e471bfe7c4b",
   "metadata": {},
   "source": [
    "Можно посмотреть на распределение просмотров в каждой из групп, возможно что-то не так с пользовательским CTR.\n",
    "Как видим из графика ниже, действительно, очень много пользователей имеют менне 50 лайков, что портит нам оценку CTR и предыдущий тест несостоятелен."
   ]
  },
  {
   "cell_type": "code",
   "execution_count": 85,
   "id": "9424713c-abff-4106-9d04-f10f60121733",
   "metadata": {},
   "outputs": [
    {
     "data": {
      "image/png": "[encoded data removed]",
      "text/plain": [
       "<Figure size 432x288 with 1 Axes>"
      ]
     },
     "metadata": {
      "needs_background": "light"
     },
     "output_type": "display_data"
    }
   ],
   "source": [
    "groups = sns.histplot(data = df, \n",
    "              x='views', \n",
    "              hue='exp_group', \n",
    "              palette = ['r', 'b'],\n",
    "              alpha=0.5,\n",
    "              kde=False)"
   ]
  },
  {
   "cell_type": "code",
   "execution_count": 86,
   "id": "fa87f35e-b3c4-45db-a288-6fe057c717f6",
   "metadata": {},
   "outputs": [
    {
     "data": {
      "image/png": "[encoded data removed]",
      "text/plain": [
       "<Figure size 432x288 with 1 Axes>"
      ]
     },
     "metadata": {
      "needs_background": "light"
     },
     "output_type": "display_data"
    }
   ],
   "source": [
    "groups = sns.histplot(data = df[df['views']>=100], \n",
    "              x='ctr', \n",
    "              hue='exp_group', \n",
    "              palette = ['r', 'b'],\n",
    "              alpha=0.5,\n",
    "              kde=False)"
   ]
  },
  {
   "cell_type": "markdown",
   "id": "f9b23140-efed-4635-a32a-d227753a73bf",
   "metadata": {},
   "source": [
    "Даже если смотреть только по пользователям, которым мы можем верить, в каком-то смысле, в плане CTR, видны два горба в группе номер 2(тестовая).\n",
    "Возможно новый алгоритм подействовал на часть пользователей положительно, т.е. стал предлагать им больше постов, которые им интересны. А другой группе начал давать менее релевантные. Проблема, например, может крыться в том, что на новых пользователях алгоритм работает хуже (из-за недостатка данных), чем на старых. Либо хуже работать на пользователях, которые мало лайкали (было всего 2 лайка по которым алгоритм не смог сделать корректный вывод).  \n",
    "Рассмотрим пользователей тестовой группы, поделив их по CTR"
   ]
  },
  {
   "cell_type": "code",
   "execution_count": 87,
   "id": "def8db4e-f992-434f-a450-5f439d9237a5",
   "metadata": {},
   "outputs": [
    {
     "name": "stderr",
     "output_type": "stream",
     "text": [
      "/tmp/ipykernel_89/2226139948.py:2: SettingWithCopyWarning: \n",
      "A value is trying to be set on a copy of a slice from a DataFrame.\n",
      "Try using .loc[row_indexer,col_indexer] = value instead\n",
      "\n",
      "See the caveats in the documentation: https://pandas.pydata.org/pandas-docs/stable/user_guide/indexing.html#returning-a-view-versus-a-copy\n",
      "  test_df['ctr_group'] = ['ctr<=20%' if x>0.2 else 'ctr>20%' for x in test_df.ctr]\n"
     ]
    },
    {
     "data": {
      "image/png": "[encoded data removed]",
      "text/plain": [
       "<Figure size 864x432 with 2 Axes>"
      ]
     },
     "metadata": {
      "needs_background": "light"
     },
     "output_type": "display_data"
    }
   ],
   "source": [
    "test_df = df[df.exp_group == 2]\n",
    "test_df['ctr_group'] = ['ctr<=20%' if x>0.2 else 'ctr>20%' for x in test_df.ctr]\n",
    "\n",
    "f, ax = plt.subplots(1,2,figsize=(12, 6))\n",
    "\n",
    "ax1 = sns.histplot(data = test_df, \n",
    "              x='views', \n",
    "              hue='ctr_group', \n",
    "              palette = ['r', 'b'],\n",
    "            ax=ax[0])\n",
    "ax1.set_title('Views')\n",
    "ax2 = sns.histplot(data = test_df, \n",
    "              x='likes', \n",
    "              hue='ctr_group', \n",
    "              palette = ['r', 'b'],\n",
    "            ax=ax[1])\n",
    "ax2.set_title('Likes')\n",
    "f.show()"
   ]
  },
  {
   "cell_type": "code",
   "execution_count": 62,
   "id": "fe0a2815-7db7-4093-9783-f1cedbef6e73",
   "metadata": {},
   "outputs": [
    {
     "data": {
      "text/plain": [
       "ctr_group\n",
       "ctr<=20%    4432\n",
       "ctr>20%     5520\n",
       "Name: user_id, dtype: int64"
      ]
     },
     "execution_count": 62,
     "metadata": {},
     "output_type": "execute_result"
    }
   ],
   "source": [
    "test_df.groupby('ctr_group')['user_id'].nunique()"
   ]
  },
  {
   "cell_type": "markdown",
   "id": "8d7189f4-bb8f-4bfb-b015-33d08d73b635",
   "metadata": {},
   "source": [
    "Группы по ctr примерно одинаковы по размеру, а распределение просмотров примерно совпадает. Правда у группы, с большим ctr, хвост тяжелее. Выглядит разумно, пользователям больше нравится контент - смотрят больше."
   ]
  },
  {
   "cell_type": "code",
   "execution_count": 97,
   "id": "908278a5-efc2-415a-82bc-0fa9cafb51e7",
   "metadata": {},
   "outputs": [],
   "source": [
    "q = \"\"\"\n",
    "SELECT \n",
    "    user_id,\n",
    "    country,\n",
    "    os,\n",
    "    gender,\n",
    "    sum(action = 'like')/sum(action = 'view') as ctr\n",
    "FROM {db}.feed_actions \n",
    "WHERE toDate(time) between '2023-01-01' and '2023-01-07'\n",
    "    and exp_group in (2)\n",
    "GROUP BY  \n",
    "    country,\n",
    "    os,\n",
    "    gender,\n",
    "    user_id\n",
    "\"\"\"\n",
    "\n",
    "test = ph.read_clickhouse(q, connection=connection)"
   ]
  },
  {
   "cell_type": "code",
   "execution_count": 98,
   "id": "150f5d20-2aff-4952-bd20-b0d30a2a3ad8",
   "metadata": {},
   "outputs": [],
   "source": [
    "test['ctr_group'] = ['ctr<=20%' if x>0.2 else 'ctr>20%' for x in test_df.ctr]"
   ]
  },
  {
   "cell_type": "code",
   "execution_count": 110,
   "id": "5ad6fdaa-af3f-42e3-8eae-07a16e13dbad",
   "metadata": {},
   "outputs": [
    {
     "data": {
      "text/html": [
       "<div>\n",
       "<style scoped>\n",
       "    .dataframe tbody tr th:only-of-type {\n",
       "        vertical-align: middle;\n",
       "    }\n",
       "\n",
       "    .dataframe tbody tr th {\n",
       "        vertical-align: top;\n",
       "    }\n",
       "\n",
       "    .dataframe thead th {\n",
       "        text-align: right;\n",
       "    }\n",
       "</style>\n",
       "<table border=\"1\" class=\"dataframe\">\n",
       "  <thead>\n",
       "    <tr style=\"text-align: right;\">\n",
       "      <th>ctr_group</th>\n",
       "      <th>ctr&lt;=20%</th>\n",
       "      <th>ctr&gt;20%</th>\n",
       "      <th>All</th>\n",
       "    </tr>\n",
       "    <tr>\n",
       "      <th>country</th>\n",
       "      <th></th>\n",
       "      <th></th>\n",
       "      <th></th>\n",
       "    </tr>\n",
       "  </thead>\n",
       "  <tbody>\n",
       "    <tr>\n",
       "      <th>Azerbaijan</th>\n",
       "      <td>50</td>\n",
       "      <td>60</td>\n",
       "      <td>110</td>\n",
       "    </tr>\n",
       "    <tr>\n",
       "      <th>Belarus</th>\n",
       "      <td>88</td>\n",
       "      <td>116</td>\n",
       "      <td>204</td>\n",
       "    </tr>\n",
       "    <tr>\n",
       "      <th>Cyprus</th>\n",
       "      <td>5</td>\n",
       "      <td>7</td>\n",
       "      <td>12</td>\n",
       "    </tr>\n",
       "    <tr>\n",
       "      <th>Estonia</th>\n",
       "      <td>5</td>\n",
       "      <td>3</td>\n",
       "      <td>8</td>\n",
       "    </tr>\n",
       "    <tr>\n",
       "      <th>Finland</th>\n",
       "      <td>51</td>\n",
       "      <td>57</td>\n",
       "      <td>108</td>\n",
       "    </tr>\n",
       "    <tr>\n",
       "      <th>Kazakhstan</th>\n",
       "      <td>76</td>\n",
       "      <td>120</td>\n",
       "      <td>196</td>\n",
       "    </tr>\n",
       "    <tr>\n",
       "      <th>Latvia</th>\n",
       "      <td>1</td>\n",
       "      <td>6</td>\n",
       "      <td>7</td>\n",
       "    </tr>\n",
       "    <tr>\n",
       "      <th>Russia</th>\n",
       "      <td>3898</td>\n",
       "      <td>4833</td>\n",
       "      <td>8731</td>\n",
       "    </tr>\n",
       "    <tr>\n",
       "      <th>Switzerland</th>\n",
       "      <td>1</td>\n",
       "      <td>9</td>\n",
       "      <td>10</td>\n",
       "    </tr>\n",
       "    <tr>\n",
       "      <th>Turkey</th>\n",
       "      <td>33</td>\n",
       "      <td>49</td>\n",
       "      <td>82</td>\n",
       "    </tr>\n",
       "    <tr>\n",
       "      <th>Ukraine</th>\n",
       "      <td>224</td>\n",
       "      <td>260</td>\n",
       "      <td>484</td>\n",
       "    </tr>\n",
       "    <tr>\n",
       "      <th>All</th>\n",
       "      <td>4432</td>\n",
       "      <td>5520</td>\n",
       "      <td>9952</td>\n",
       "    </tr>\n",
       "  </tbody>\n",
       "</table>\n",
       "</div>"
      ],
      "text/plain": [
       "ctr_group    ctr<=20%  ctr>20%   All\n",
       "country                             \n",
       "Azerbaijan         50       60   110\n",
       "Belarus            88      116   204\n",
       "Cyprus              5        7    12\n",
       "Estonia             5        3     8\n",
       "Finland            51       57   108\n",
       "Kazakhstan         76      120   196\n",
       "Latvia              1        6     7\n",
       "Russia           3898     4833  8731\n",
       "Switzerland         1        9    10\n",
       "Turkey             33       49    82\n",
       "Ukraine           224      260   484\n",
       "All              4432     5520  9952"
      ]
     },
     "execution_count": 110,
     "metadata": {},
     "output_type": "execute_result"
    }
   ],
   "source": [
    "table = test.pivot_table(columns = 'ctr_group', index='country', values = 'user_id', aggfunc = 'count',margins=True)\n",
    "table#.div(table['All'], axis=0)*100"
   ]
  },
  {
   "cell_type": "markdown",
   "id": "2a79595c-e751-4a86-86d6-84b1ec74e88b",
   "metadata": {},
   "source": [
    "Какой-то явный признак, у кого ctr точно выше 20%, не удалось найти."
   ]
  },
  {
   "cell_type": "markdown",
   "id": "5f7a5b84-453c-4c9c-8afb-cca0cd35ea8f",
   "metadata": {},
   "source": [
    "**Так как же тестировать?**\n",
    "\n",
    "Вариант сглаженного CTR интересен, но мне не нравится наличие гиперпараметра и риска того, что его направленность не совпадает с направленностью общего количества кликов. Кроме того, у нас распределения не похожи по форме.  \n",
    "Попробуем посмотреть на общий CTR.  \n",
    "Поэтому буду использовать бакетное преобразование как быстрый вариант бутстрепа (данных у нас достаточно для разделения на группы)\n",
    "\n",
    "Кроме того, т.к. я уже попробовала М-У и далее планирую еще сравнения, то логично будет использовать поправку Бонферрони.\n",
    "Т.е. в моем случае alpha = 0.05/4 = 0.0125"
   ]
  },
  {
   "cell_type": "markdown",
   "id": "f5e2f85c-a317-4e5e-9d7f-73e9b1c3c0f4",
   "metadata": {},
   "source": [
    "## 2. Бакетное преобразование прямо в CH"
   ]
  },
  {
   "cell_type": "code",
   "execution_count": 90,
   "id": "6dd58e4e-cafa-47b7-841a-3a284dd3eeaf",
   "metadata": {},
   "outputs": [
    {
     "name": "stdout",
     "output_type": "stream",
     "text": [
      "CPU times: user 20.6 ms, sys: 66 µs, total: 20.6 ms\n",
      "Wall time: 341 ms\n"
     ]
    },
    {
     "data": {
      "text/plain": [
       "MannwhitneyuResult(statistic=1995.0, pvalue=2.859963936492646e-07)"
      ]
     },
     "execution_count": 90,
     "metadata": {},
     "output_type": "execute_result"
    }
   ],
   "source": [
    "q = \"\"\"\n",
    "\n",
    "SELECT exp_group, bucket,\n",
    "    sum(likes)/sum(views) as bucket_ctr\n",
    "FROM (SELECT exp_group, \n",
    "        xxHash64(user_id)%50 as bucket,\n",
    "        user_id,\n",
    "        sum(action = 'like') as likes,\n",
    "        sum(action = 'view') as views,\n",
    "        likes/views as ctr\n",
    "    FROM {db}.feed_actions \n",
    "    WHERE toDate(time) between '2023-01-01' and '2023-01-07'\n",
    "    and exp_group in (1,2)\n",
    "    GROUP BY exp_group, bucket, user_id)\n",
    "GROUP BY exp_group, bucket\n",
    "\"\"\"\n",
    "\n",
    "%time df_bucket = ph.read_clickhouse(q, connection=connection)\n",
    "\n",
    "#тест Манна-Уитни видит отличие\n",
    "stats.mannwhitneyu(df_bucket[df_bucket.exp_group == 1].bucket_ctr, \n",
    "                   df_bucket[df_bucket.exp_group == 2].bucket_ctr, \n",
    "                   alternative='two-sided')"
   ]
  },
  {
   "cell_type": "code",
   "execution_count": 81,
   "id": "a8335f0a-b078-430b-ba7a-9ea3994b7aa7",
   "metadata": {},
   "outputs": [
    {
     "data": {
      "image/png": "[encoded data removed]",
      "text/plain": [
       "<Figure size 432x288 with 1 Axes>"
      ]
     },
     "metadata": {
      "needs_background": "light"
     },
     "output_type": "display_data"
    }
   ],
   "source": [
    "groups = sns.histplot(data = df_bucket, \n",
    "              x='bucket_ctr', \n",
    "              hue='exp_group', \n",
    "              palette = ['r', 'b'],\n",
    "              alpha=0.5,\n",
    "              kde=False)"
   ]
  },
  {
   "cell_type": "markdown",
   "id": "45bfdb69-4141-4f3f-999f-043e5615ec3c",
   "metadata": {},
   "source": [
    "Тут распределения уже унимодальные, однако у 2 группы ожидаемо больше дисперсия.\n",
    "Тест общего CTR дал p-value меньше 0.025, а значит есть значимые изменения. Если посчитаем средние, то увидим, что у 2 группы он немного ниже."
   ]
  },
  {
   "cell_type": "code",
   "execution_count": 82,
   "id": "5e61ebf9-5c7f-4c1b-9e76-fedce9f3a755",
   "metadata": {},
   "outputs": [
    {
     "data": {
      "text/plain": [
       "exp_group\n",
       "1    0.208122\n",
       "2    0.198259\n",
       "Name: bucket_ctr, dtype: float64"
      ]
     },
     "execution_count": 82,
     "metadata": {},
     "output_type": "execute_result"
    }
   ],
   "source": [
    "df_bucket.groupby('exp_group')['bucket_ctr'].mean()"
   ]
  },
  {
   "cell_type": "markdown",
   "id": "b514ce2a-1885-4d0f-af9d-0a96e0c6bec3",
   "metadata": {},
   "source": [
    "## Пробуем другие методы\n",
    "### Бутстреп - сравнение скорости и результатов"
   ]
  },
  {
   "cell_type": "code",
   "execution_count": 88,
   "id": "e2ba2d2a-4017-4fb1-9edd-1712941db3e3",
   "metadata": {},
   "outputs": [
    {
     "name": "stdout",
     "output_type": "stream",
     "text": [
      "CPU times: user 2.52 s, sys: 695 ms, total: 3.21 s\n",
      "Wall time: 3.23 s\n"
     ]
    },
    {
     "data": {
      "text/plain": [
       "<AxesSubplot:ylabel='Count'>"
      ]
     },
     "execution_count": 88,
     "metadata": {},
     "output_type": "execute_result"
    },
    {
     "data": {
      "image/png": "[encoded data removed]",
      "text/plain": [
       "<Figure size 432x288 with 1 Axes>"
      ]
     },
     "metadata": {
      "needs_background": "light"
     },
     "output_type": "display_data"
    }
   ],
   "source": [
    "def bootstrap(likes1, views1, likes2, views2, n_bootstrap=2000):\n",
    "\n",
    "    poisson_bootstraps1 = stats.poisson(1).rvs(\n",
    "        (n_bootstrap, len(likes1))).astype(np.int64)\n",
    "\n",
    "    poisson_bootstraps2 = stats.poisson(1).rvs(\n",
    "            (n_bootstrap, len(likes2))).astype(np.int64)\n",
    "    \n",
    "    globalCTR1 = (poisson_bootstraps1*likes1).sum(axis=1)/(poisson_bootstraps1*views1).sum(axis=1)\n",
    "    \n",
    "    globalCTR2 = (poisson_bootstraps2*likes2).sum(axis=1)/(poisson_bootstraps2*views2).sum(axis=1)\n",
    "\n",
    "    return globalCTR1, globalCTR2\n",
    "\n",
    "\n",
    "likes1 = df[df.exp_group == 1].likes.to_numpy()\n",
    "views1 = df[df.exp_group == 1].views.to_numpy()\n",
    "likes2 = df[df.exp_group == 2].likes.to_numpy()\n",
    "views2 = df[df.exp_group == 2].views.to_numpy()\n",
    "\n",
    "%time ctr1, ctr2 = bootstrap(likes1, views1, likes2, views2)\n",
    "\n",
    "sns.histplot(ctr1)\n",
    "sns.histplot(ctr2)"
   ]
  },
  {
   "cell_type": "code",
   "execution_count": 93,
   "id": "a7db3380-75e6-40cb-844f-f93334ac447b",
   "metadata": {},
   "outputs": [
    {
     "data": {
      "text/plain": [
       "Ttest_indResult(statistic=268.98906140712825, pvalue=0.0)"
      ]
     },
     "execution_count": 93,
     "metadata": {},
     "output_type": "execute_result"
    }
   ],
   "source": [
    "#Т - тест видит отличие (можем применять его, т.к. распределения похожи на нормальные)\n",
    "stats.ttest_ind(ctr1, ctr2, equal_var=False)"
   ]
  },
  {
   "cell_type": "markdown",
   "id": "61a9974f-a9f8-4101-a03e-58517d47691f",
   "metadata": {},
   "source": [
    "### Сглаженный CTR"
   ]
  },
  {
   "cell_type": "code",
   "execution_count": 94,
   "id": "2457c79a-2989-4834-911d-89c3eb7c7304",
   "metadata": {},
   "outputs": [
    {
     "data": {
      "text/plain": [
       "MannwhitneyuResult(statistic=56925125.0, pvalue=1.6163964114270227e-61)"
      ]
     },
     "execution_count": 94,
     "metadata": {},
     "output_type": "execute_result"
    }
   ],
   "source": [
    "def get_smothed_ctr(user_likes, user_views, global_ctr, alpha):\n",
    "    smothed_ctr = (user_likes + alpha * global_ctr) / (user_views + alpha)\n",
    "    return smothed_ctr\n",
    "\n",
    "global_ctr_1 = df[df.exp_group == 1].likes.sum()/df[df.exp_group == 1].views.sum()\n",
    "global_ctr_2 = df[df.exp_group == 2].likes.sum()/df[df.exp_group == 2].views.sum()\n",
    "\n",
    "group1 = df[df.exp_group == 1].copy()\n",
    "group1['smothed_ctr'] = df.apply(\n",
    "    lambda x: get_smothed_ctr(x['likes'], x['views'], global_ctr_1, 5), axis=1)\n",
    "\n",
    "group2 = df[df.exp_group == 2].copy()\n",
    "group2['smothed_ctr'] = df.apply(\n",
    "    lambda x: get_smothed_ctr(x['likes'], x['views'], global_ctr_2, 5), axis=1)\n",
    "\n",
    "stats.mannwhitneyu(group1.smothed_ctr, \n",
    "                   group2.smothed_ctr,\n",
    "                   alternative = 'two-sided')"
   ]
  },
  {
   "cell_type": "code",
   "execution_count": 96,
   "id": "c2c25421-b8e6-4387-9e9b-5595a1755796",
   "metadata": {},
   "outputs": [
    {
     "name": "stderr",
     "output_type": "stream",
     "text": [
      "/nfs/env/lib/python3.8/site-packages/seaborn/distributions.py:2557: FutureWarning: `distplot` is a deprecated function and will be removed in a future version. Please adapt your code to use either `displot` (a figure-level function with similar flexibility) or `histplot` (an axes-level function for histograms).\n",
      "  warnings.warn(msg, FutureWarning)\n"
     ]
    },
    {
     "data": {
      "image/png": "[encoded data removed]",
      "text/plain": [
       "<Figure size 864x432 with 2 Axes>"
      ]
     },
     "metadata": {
      "needs_background": "light"
     },
     "output_type": "display_data"
    }
   ],
   "source": [
    "f, ax =  plt.subplots(1,2,figsize=(12, 6))\n",
    "ax1 = sns.distplot(group1.smothed_ctr, \n",
    "             kde = False, ax=ax[0])\n",
    "ax1 = sns.distplot(group2.smothed_ctr, \n",
    "             kde = False, ax=ax[1])"
   ]
  },
  {
   "cell_type": "markdown",
   "id": "b8ace87d-bddb-465a-85d7-ba0c9204c33a",
   "metadata": {},
   "source": [
    "Распределения сгладились,во второй группе CTR приблизился к общегрупповому, который ниже"
   ]
  },
  {
   "cell_type": "markdown",
   "id": "6df361ba-1c6c-4906-abca-6226c6697706",
   "metadata": {},
   "source": [
    "## Итоги\n",
    "\n",
    "Результат теста в статистическом плане - отрицательный. Тесты нашли значимое различие между группами, причем в тестовой группе общий CTR ниже.\n",
    "Однако, нами получено важное знание: алгоритм по-разному отработал на разных людях. Поэтому стоит подробнее посмотреть на людей из 2 группы по параметрам: времени в проекте, соц.дем, устройствам. Вероятно стоит немного доработать этот же алгоритм и попробовать снова."
   ]
  }
 ],
 "metadata": {
  "kernelspec": {
   "display_name": "Python 3 (ipykernel)",
   "language": "python",
   "name": "python3"
  },
  "language_info": {
   "codemirror_mode": {
    "name": "ipython",
    "version": 3
   },
   "file_extension": ".py",
   "mimetype": "text/x-python",
   "name": "python",
   "nbconvert_exporter": "python",
   "pygments_lexer": "ipython3",
   "version": "3.8.10"
  }
 },
 "nbformat": 4,
 "nbformat_minor": 5
}
