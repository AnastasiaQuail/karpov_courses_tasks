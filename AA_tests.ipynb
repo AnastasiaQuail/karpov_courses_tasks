{
 "cells": [
  {
   "cell_type": "code",
   "execution_count": 17,
   "id": "2bc02b30-633a-4015-8b40-e233dad0ffcc",
   "metadata": {},
   "outputs": [],
   "source": [
    "import pandas as pd\n",
    "import pandahouse as ph\n",
    "import seaborn as sns\n",
    "from scipy import stats"
   ]
  },
  {
   "cell_type": "code",
   "execution_count": 3,
   "id": "19b95085-5194-4361-b410-e00a4ba460a8",
   "metadata": {},
   "outputs": [],
   "source": [
    "connection = {'host': 'https://clickhouse.lab.karpov.courses',\n",
    "                      'database':'simulator_20230120',\n",
    "                      'user':'student', \n",
    "                      'password':'dpo_python_2020'\n",
    "                     }\n"
   ]
  },
  {
   "cell_type": "code",
   "execution_count": 13,
   "id": "82ba225c-65aa-46e5-9647-ee2ffbd24298",
   "metadata": {},
   "outputs": [
    {
     "data": {
      "text/html": [
       "<div>\n",
       "<style scoped>\n",
       "    .dataframe tbody tr th:only-of-type {\n",
       "        vertical-align: middle;\n",
       "    }\n",
       "\n",
       "    .dataframe tbody tr th {\n",
       "        vertical-align: top;\n",
       "    }\n",
       "\n",
       "    .dataframe thead th {\n",
       "        text-align: right;\n",
       "    }\n",
       "</style>\n",
       "<table border=\"1\" class=\"dataframe\">\n",
       "  <thead>\n",
       "    <tr style=\"text-align: right;\">\n",
       "      <th></th>\n",
       "      <th>user_id</th>\n",
       "      <th>likes</th>\n",
       "      <th>views</th>\n",
       "      <th>ctr</th>\n",
       "    </tr>\n",
       "    <tr>\n",
       "      <th>exp_group</th>\n",
       "      <th></th>\n",
       "      <th></th>\n",
       "      <th></th>\n",
       "      <th></th>\n",
       "    </tr>\n",
       "  </thead>\n",
       "  <tbody>\n",
       "    <tr>\n",
       "      <th>2</th>\n",
       "      <td>8480</td>\n",
       "      <td>8480</td>\n",
       "      <td>8480</td>\n",
       "      <td>8480</td>\n",
       "    </tr>\n",
       "    <tr>\n",
       "      <th>3</th>\n",
       "      <td>8569</td>\n",
       "      <td>8569</td>\n",
       "      <td>8569</td>\n",
       "      <td>8569</td>\n",
       "    </tr>\n",
       "  </tbody>\n",
       "</table>\n",
       "</div>"
      ],
      "text/plain": [
       "           user_id  likes  views   ctr\n",
       "exp_group                             \n",
       "2             8480   8480   8480  8480\n",
       "3             8569   8569   8569  8569"
      ]
     },
     "execution_count": 13,
     "metadata": {},
     "output_type": "execute_result"
    }
   ],
   "source": [
    "q = \"\"\"\n",
    "SELECT exp_group, \n",
    "    user_id,\n",
    "    sum(action = 'like') as likes,\n",
    "    sum(action = 'view') as views,\n",
    "    likes/views as ctr\n",
    "FROM {db}.feed_actions \n",
    "WHERE toDate(time) between '2022-12-25' and '2022-12-31'\n",
    "    and exp_group in (2,3)\n",
    "GROUP BY exp_group, user_id\n",
    "\"\"\"\n",
    "\n",
    "df = ph.read_clickhouse(q, connection=connection)\n",
    "\n",
    "df.groupby('exp_group').count()"
   ]
  },
  {
   "cell_type": "code",
   "execution_count": 14,
   "id": "09aac023-2706-443e-abf1-7b72cb72f315",
   "metadata": {},
   "outputs": [
    {
     "data": {
      "image/png": "[encoded data removed]",
      "text/plain": [
       "<Figure size 842.4x595.44 with 1 Axes>"
      ]
     },
     "metadata": {},
     "output_type": "display_data"
    }
   ],
   "source": [
    "# Сделаем графики в seaborn покрупнее\n",
    "sns.set(rc={'figure.figsize':(11.7,8.27)})\n",
    "\n",
    "groups = sns.histplot(data = df, \n",
    "              x='ctr', \n",
    "              hue='exp_group', \n",
    "              palette = ['r', 'b'],\n",
    "              alpha=0.5,\n",
    "              kde=False)"
   ]
  },
  {
   "cell_type": "markdown",
   "id": "59ea6b26-c33e-4fae-9b78-c0aee94ae59b",
   "metadata": {},
   "source": [
    "## Задание\n",
    "Данные АА-теста с **'2022-12-25' по '2022-12-31'**. \n",
    "Нужно сделать симуляцию, как будто мы провели 10000 АА-тестов. На каждой итерации вам нужно сформировать подвыборки без повторения в 500 юзеров из **2 и 3** экспериментальной группы. Провести сравнение этих подвыборок t-testом.\n",
    "\n",
    "1. Построить гистограмму распределения получившихся 10000 p-values.\n",
    "\n",
    "2. Посчитать, какой процент p values оказался меньше либо равен 0.05\n",
    "\n",
    "3. Написать вывод по проведенному АА-тесту, корректно ли работает наша система сплитования."
   ]
  },
  {
   "cell_type": "code",
   "execution_count": 34,
   "id": "2e360f6b-08db-4dcf-8959-a6de707d2bec",
   "metadata": {},
   "outputs": [],
   "source": [
    "alpha = 0.05\n",
    "n_tests = 10000"
   ]
  },
  {
   "cell_type": "code",
   "execution_count": 37,
   "id": "0b3b8668-2c1d-4f29-ac46-60f5011fc3df",
   "metadata": {},
   "outputs": [],
   "source": [
    "p_value = []\n",
    "cnt = 0\n",
    "for i in range(n_tests):\n",
    "    data = df.groupby('exp_group').sample(n=500)\n",
    "    \n",
    "    #T-тест\n",
    "    p = stats.ttest_ind(data[data.exp_group == 2].ctr,\n",
    "                    data[data.exp_group == 3].ctr,\n",
    "                    equal_var=False).pvalue\n",
    "    p_value.append(p)\n",
    "    if p<=alpha:\n",
    "        cnt +=1"
   ]
  },
  {
   "cell_type": "markdown",
   "id": "20f3890f-b2ce-4a0b-8992-10ab3093574b",
   "metadata": {},
   "source": [
    "### 1. Гистограмма распределения p-value"
   ]
  },
  {
   "cell_type": "code",
   "execution_count": 38,
   "id": "6201e854-adb9-44ef-8553-32c1703acbc2",
   "metadata": {},
   "outputs": [
    {
     "data": {
      "text/plain": [
       "<AxesSubplot:ylabel='Count'>"
      ]
     },
     "execution_count": 38,
     "metadata": {},
     "output_type": "execute_result"
    },
    {
     "data": {
      "image/png": "[encoded data removed]",
      "text/plain": [
       "<Figure size 842.4x595.44 with 1 Axes>"
      ]
     },
     "metadata": {},
     "output_type": "display_data"
    }
   ],
   "source": [
    "sns.histplot(data = p_value, \n",
    "              alpha=0.5,\n",
    "              kde=False)"
   ]
  },
  {
   "cell_type": "markdown",
   "id": "ab860317-3395-4881-ad0e-356e7fcaaf56",
   "metadata": {},
   "source": [
    "### 2.Процент p-value меньше или равен 0.05"
   ]
  },
  {
   "cell_type": "code",
   "execution_count": 39,
   "id": "270a142a-1118-4004-8b02-8aa5c8c6a5db",
   "metadata": {},
   "outputs": [
    {
     "name": "stdout",
     "output_type": "stream",
     "text": [
      "В проведенной серии АА-тестов только в 4.7% случаев отвергали нулевую гипотезу. Данное значение близко к 5%\n"
     ]
    }
   ],
   "source": [
    "percent = round(cnt*100/n_tests,2)\n",
    "print(f'В проведенной серии АА-тестов только в {percent}% случаев отвергали нулевую гипотезу. Данное значение близко к 5%')"
   ]
  },
  {
   "cell_type": "markdown",
   "id": "67067852-1c47-4725-9182-eeefcec8f610",
   "metadata": {},
   "source": [
    "### 3.Вывод по АА-тесту"
   ]
  },
  {
   "cell_type": "markdown",
   "id": "1816e7c4-5c96-4f83-8057-e7136df84ef6",
   "metadata": {},
   "source": [
    "За неимением возможности проводить 10к АА-тестов мы сделали их симуляцию за счет подвыборок. \n",
    "Целью данного действия была проверка:\n",
    "1. Убедиться, что группы одинаковы в рамкам метрики ctr.\n",
    "2. Убедиться, что наша система сплитирования работает верно и процент срабатываний t-теста равен уровню альфа (приблизительно равен).\n",
    "\n",
    "После проведения симуляции была построена гистограмма распределения p-value: как можно видеть распределено оно равномерно, т.к. группы неотличимы и p-value равновероятно принимает любое значение. При этом значения <=0.05 оно принимает только в ~5% случаев, а значит т-тест правильно работает на данном наборе данных."
   ]
  },
  {
   "cell_type": "code",
   "execution_count": null,
   "id": "795fa80d-c6b1-4472-b075-a870a98c8988",
   "metadata": {},
   "outputs": [],
   "source": []
  }
 ],
 "metadata": {
  "kernelspec": {
   "display_name": "Python 3 (ipykernel)",
   "language": "python",
   "name": "python3"
  },
  "language_info": {
   "codemirror_mode": {
    "name": "ipython",
    "version": 3
   },
   "file_extension": ".py",
   "mimetype": "text/x-python",
   "name": "python",
   "nbconvert_exporter": "python",
   "pygments_lexer": "ipython3",
   "version": "3.8.10"
  }
 },
 "nbformat": 4,
 "nbformat_minor": 5
}
